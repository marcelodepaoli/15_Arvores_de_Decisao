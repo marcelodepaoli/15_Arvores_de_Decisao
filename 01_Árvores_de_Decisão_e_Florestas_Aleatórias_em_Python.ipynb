{
  "cells": [
    {
      "cell_type": "markdown",
      "metadata": {
        "id": "RKJpzXCRwvGO"
      },
      "source": [
        "# Árvores de Decisão e Florestas Aleatórias em Python"
      ]
    },
    {
      "cell_type": "markdown",
      "metadata": {
        "id": "J6KDigZ9wvGS"
      },
      "source": [
        "## Importar bibliotecas"
      ]
    },
    {
      "cell_type": "code",
      "execution_count": null,
      "metadata": {
        "collapsed": true,
        "id": "11AKmuIpwvGT"
      },
      "outputs": [],
      "source": []
    },
    {
      "cell_type": "markdown",
      "metadata": {
        "id": "Tsg34g52wvGU"
      },
      "source": [
        "## Obtenha os dados"
      ]
    },
    {
      "cell_type": "code",
      "execution_count": null,
      "metadata": {
        "collapsed": true,
        "id": "H1ZtL2C-wvGV"
      },
      "outputs": [],
      "source": []
    },
    {
      "cell_type": "markdown",
      "metadata": {
        "id": "YB7fNPohwvGW"
      },
      "source": [
        "## EDA\n",
        "\n",
        "Vamos apenas verificar um gráfico de pares simples para este pequeno conjunto de dados."
      ]
    },
    {
      "cell_type": "code",
      "execution_count": null,
      "metadata": {
        "id": "bExTcNMbwvGX"
      },
      "outputs": [],
      "source": []
    },
    {
      "cell_type": "markdown",
      "metadata": {
        "id": "v4LEWwkvwvGY"
      },
      "source": [
        "## Train Test Split\n",
        "\n",
        "Vamos dividir os dados em um conjunto de treinamento e um conjunto de teste"
      ]
    },
    {
      "cell_type": "code",
      "execution_count": null,
      "metadata": {
        "collapsed": true,
        "id": "ZGORl5t1wvGY"
      },
      "outputs": [],
      "source": []
    },
    {
      "cell_type": "markdown",
      "metadata": {
        "id": "ax5kzbkHwvGZ"
      },
      "source": [
        "## Árvores de decisão\n",
        "\n",
        "Começaremos treinando uma única árvore de decisão."
      ]
    },
    {
      "cell_type": "code",
      "execution_count": null,
      "metadata": {
        "collapsed": true,
        "id": "bwKXLe6ewvGa"
      },
      "outputs": [],
      "source": []
    },
    {
      "cell_type": "markdown",
      "metadata": {
        "id": "9Z6lOrEIwvGb"
      },
      "source": [
        "## Prediction and Evaluation \n",
        "\n",
        "Vamos avaliar nossa árvore de decisão."
      ]
    },
    {
      "cell_type": "code",
      "execution_count": null,
      "metadata": {
        "id": "q5lP7QzzwvGc"
      },
      "outputs": [],
      "source": []
    },
    {
      "cell_type": "markdown",
      "metadata": {
        "id": "rZOiMPQrwvGc"
      },
      "source": [
        "## Visualização da Árvore\n",
        "\n",
        "O Scikit learn na verdade tem alguns recursos de visualização integrados para árvores de decisão, você não utilizara esse recurso com frequência e é necessário instalar a biblioteca pydot"
      ]
    },
    {
      "cell_type": "code",
      "execution_count": null,
      "metadata": {
        "id": "MXIi_ASHwvGd"
      },
      "outputs": [],
      "source": []
    },
    {
      "cell_type": "markdown",
      "metadata": {
        "id": "K5kMFXkMwvGd"
      },
      "source": [
        "\n",
        "## Florestas Aleatórias\n",
        "\n",
        "Agora vamos comparar o modelo de árvore de decisão com uma floresta aleatória."
      ]
    },
    {
      "cell_type": "code",
      "execution_count": null,
      "metadata": {
        "id": "7_Hl1_GQwvGd"
      },
      "outputs": [],
      "source": []
    }
  ],
  "metadata": {
    "kernelspec": {
      "display_name": "Python 3",
      "language": "python",
      "name": "python3"
    },
    "language_info": {
      "codemirror_mode": {
        "name": "ipython",
        "version": 3
      },
      "file_extension": ".py",
      "mimetype": "text/x-python",
      "name": "python",
      "nbconvert_exporter": "python",
      "pygments_lexer": "ipython3",
      "version": "3.5.1"
    },
    "colab": {
      "provenance": [],
      "collapsed_sections": []
    }
  },
  "nbformat": 4,
  "nbformat_minor": 0
}