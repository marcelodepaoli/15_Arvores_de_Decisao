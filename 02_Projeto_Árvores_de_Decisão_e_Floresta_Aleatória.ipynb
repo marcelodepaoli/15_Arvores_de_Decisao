{
  "cells": [
    {
      "cell_type": "markdown",
      "metadata": {
        "id": "MoST1rGs9Qm6"
      },
      "source": [
        "# Projeto Floresta Aleatória\n",
        "Para este projeto, exploraremos dados disponíveis publicamente do [LendingClub.com](www.lendingclub.com). Lending Club conecta pessoas que precisam de dinheiro (mutuários) com pessoas que têm dinheiro (investidores). Felizmente, como investidor, você gostaria de investir em pessoas que mostrassem um perfil de alta probabilidade de pagar de volta. Tentaremos criar um modelo que ajude a prever isso.\n",
        "\n",
        "O Lending Club teve um [ano muito interessante em 2016](https://en.wikipedia.org/wiki/Lending_Club#2016), então vamos verificar alguns de seus dados e manter o contexto em mente. Esses dados são de antes mesmo de serem divulgados.\n",
        "\n",
        "Usaremos dados de empréstimos de 2007-2010 e tentaremos classificar e prever se o mutuário pagou ou não seu empréstimo integralmente. Você pode baixar os dados de [aqui](https://www.lendingclub.com/info/download-data.action) ou apenas use o csv já fornecido. É recomendável que você use o csv fornecido, pois ele foi limpo de valores NA.\n",
        "\n",
        "Aqui está o que as colunas representam:\n",
        "* credit.policy: 1 se o cliente atender aos critérios de subscrição de crédito do LendingClub.com e 0 caso contrário.\n",
        "* purpose: A finalidade do empréstimo (toma os valores \"credit_card\", \"debt_consolidation\", \"educational\", \"major_purchase\", \"small_business\", e \"all_other\").\n",
        "* int.rate: A taxa de juros do empréstimo, como proporção (uma taxa de 11% seria armazenada como 0,11). Os mutuários considerados mais arriscados pelo LendingClub.com recebem taxas de juros mais altas.\n",
        "* parcela: As parcelas mensais devidas pelo mutuário se o empréstimo for financiado.\n",
        "* log.annual.inc: O log natural da renda anual autodeclarada do mutuário.\n",
        "* dti: A relação dívida/renda do mutuário (valor da dívida dividido pela renda anual).\n",
        "* fico: A pontuação de crédito FICO do mutuário.\n",
        "* days.with.cr.line: O número de dias que o mutuário tem uma linha de crédito.\n",
        "* revol.bal: saldo rotativo do tomador (valor não pago ao final do ciclo de cobrança do cartão de crédito).\n",
        "* revol.util: a taxa de utilização da linha rotativa do mutuário (o valor da linha de crédito usada em relação ao crédito total disponível).\n",
        "* inq.last.6mths: Número de consultas do mutuário por parte dos credores nos últimos 6 meses.\n",
        "* delinq.2yrs: O número de vezes que o mutuário teve mais de 30 dias de atraso em um pagamento nos últimos 2 anos.\n",
        "* pub.rec: O número de registros públicos depreciativos do mutuário (declarações de falência, ônus fiscais ou sentenças)."
      ]
    },
    {
      "cell_type": "markdown",
      "metadata": {
        "id": "vNMQDZpL9Qm_"
      },
      "source": [
        "# Importar Bibliotecas\n",
        "\n",
        "** Importe as bibliotecas usuais para pandas e plotagem. Você pode importar o sklearn mais tarde.**"
      ]
    },
    {
      "cell_type": "code",
      "source": [],
      "metadata": {
        "id": "gCoVCuTFCpUC"
      },
      "execution_count": null,
      "outputs": []
    },
    {
      "cell_type": "markdown",
      "metadata": {
        "id": "0h1WlR9z9QnC"
      },
      "source": [
        "## Obtenha os dados\n",
        "\n",
        "** Use pandas para ler loan_data.csv como um dataframe chamado loans.**"
      ]
    },
    {
      "cell_type": "code",
      "source": [
        "# Esse trecho do código é obrigatório para quem estiver fazendo tudo pelo colab\n",
        "# Caso você esteja utilizando o jupyter pode comentar/apagar\n",
        "import os\n",
        "from google.colab import drive\n",
        "\n",
        "drive.mount('/content/drive')\n",
        "os.chdir(\"drive/My Drive/Colab Notebooks/IA/15_Árvores_de_Decisão\")\n",
        "os.listdir()"
      ],
      "metadata": {
        "id": "cNd-R0fL9U6e"
      },
      "execution_count": null,
      "outputs": []
    },
    {
      "cell_type": "markdown",
      "metadata": {
        "id": "LuMoMCV99QnD"
      },
      "source": [
        "** Confira os métodos info(), head() e describe() em loans.**"
      ]
    },
    {
      "cell_type": "code",
      "execution_count": null,
      "metadata": {
        "id": "POPF7M2W9QnG"
      },
      "outputs": [],
      "source": []
    },
    {
      "cell_type": "markdown",
      "metadata": {
        "id": "0K0WvGP89QnH"
      },
      "source": [
        "#Análise exploratória de dados\n",
        "\n",
        "Vamos fazer alguma visualização de dados! Usaremos recursos de plotagem incorporados do seaborn e pandas, mas sinta-se à vontade para usar qualquer biblioteca que desejar. Não se preocupe com a correspondência de cores, apenas se preocupe em obter a ideia principal.\n",
        "\n",
        "** Crie um histograma de duas distribuições FICO uma sobre a outra, uma para cada resultado credit.policy.**\n",
        "\n",
        "*Observação: isso é bastante complicado, sinta-se à vontade para consultar as soluções. Você provavelmente precisará de uma linha de código para cada histograma, também recomendo usar pandas embutidos em .hist()*"
      ]
    },
    {
      "cell_type": "code",
      "execution_count": null,
      "metadata": {
        "id": "xJcOnlDT9QnH"
      },
      "outputs": [],
      "source": []
    },
    {
      "cell_type": "markdown",
      "metadata": {
        "id": "d90s5itc9QnI"
      },
      "source": [
        "**Crie uma figura semelhante, exceto que desta vez selecione pela coluna not.fully.paid.**"
      ]
    },
    {
      "cell_type": "code",
      "execution_count": null,
      "metadata": {
        "id": "EMzJs_Wt9QnI"
      },
      "outputs": [],
      "source": []
    },
    {
      "cell_type": "markdown",
      "metadata": {
        "id": "9dfDzEYG9QnJ"
      },
      "source": [
        "**Crie um gráfico de contagem usando seaborn mostrando as contagens de empréstimos por finalidade, com o tom de cor definido por not.fully.paid**"
      ]
    },
    {
      "cell_type": "code",
      "execution_count": null,
      "metadata": {
        "id": "pELOuIur9QnJ"
      },
      "outputs": [],
      "source": []
    },
    {
      "cell_type": "markdown",
      "metadata": {
        "id": "tOQ4ExKh9QnJ"
      },
      "source": [
        "**Vamos ver a tendência entre a pontuação FICO e a taxa de juros. Recrie o seguinte gráfico conjunto.**"
      ]
    },
    {
      "cell_type": "code",
      "execution_count": null,
      "metadata": {
        "id": "O41yX2409QnJ"
      },
      "outputs": [],
      "source": []
    },
    {
      "cell_type": "markdown",
      "metadata": {
        "id": "iuL_jp9Y9QnK"
      },
      "source": [
        "**Crie os seguintes lmplots para ver se a tendência diferiu entre not.fully.paid e credit.policy. Verifique a documentação de lmplot() se você não consegue descobrir como separá-lo em colunas.**"
      ]
    },
    {
      "cell_type": "code",
      "execution_count": null,
      "metadata": {
        "id": "Od6JJDI99QnK"
      },
      "outputs": [],
      "source": []
    },
    {
      "cell_type": "markdown",
      "metadata": {
        "id": "Vz67XEHq9QnK"
      },
      "source": [
        "# Configurando os dados\n",
        "\n",
        "Vamos nos preparar para configurar nossos dados para nosso Modelo de Classificação de Floresta Aleatória!\n",
        "\n",
        "**Verifique loans.info() novamente.**"
      ]
    },
    {
      "cell_type": "code",
      "execution_count": null,
      "metadata": {
        "id": "8j81Fn-k9QnL"
      },
      "outputs": [],
      "source": []
    },
    {
      "cell_type": "markdown",
      "metadata": {
        "id": "IZ6FdfrF9QnL"
      },
      "source": [
        "## Características categóricas\n",
        "\n",
        "Observe que a coluna **purpose** é categórica\n",
        "\n",
        "Isso significa que precisamos transformá-los usando variáveis ​​fictícias para que o sklearn seja capaz de entendê-los. Faremos isso utilizando pd.get_dummies.\n",
        "\n",
        "Vamos mostrar uma maneira de lidar com essas colunas que podem ser expandidas para vários recursos categóricos, se necessário.\n",
        "\n",
        "**Crie uma lista de 1 elemento contendo a string 'purpose'. Chame esta lista de cat_feats.**"
      ]
    },
    {
      "cell_type": "code",
      "execution_count": null,
      "metadata": {
        "collapsed": true,
        "id": "kzgkiI0X9QnL"
      },
      "outputs": [],
      "source": []
    },
    {
      "cell_type": "markdown",
      "metadata": {
        "id": "1cG2uQiC9QnM"
      },
      "source": [
        "**Agora use pd.get_dummies(loans,columns=cat_feats,drop_first=True) para criar um dataframe fixo maior que tenha novas colunas de recursos com variáveis ​​fictícias. Defina este dataframe como final_data.**"
      ]
    },
    {
      "cell_type": "code",
      "execution_count": null,
      "metadata": {
        "id": "DmNbYn9s9QnM"
      },
      "outputs": [],
      "source": []
    },
    {
      "cell_type": "markdown",
      "metadata": {
        "id": "u6beW86d9QnN"
      },
      "source": [
        "## Divisão de teste de trem\n",
        "\n",
        "Agora é hora de dividir nossos dados em um conjunto de treinamento e um conjunto de teste!\n",
        "\n",
        "** Use sklearn para dividir seus dados em um conjunto de treinamento e um conjunto de teste, como fizemos no passado.**"
      ]
    },
    {
      "cell_type": "code",
      "execution_count": null,
      "metadata": {
        "collapsed": true,
        "id": "Co4vNIT19QnN"
      },
      "outputs": [],
      "source": []
    },
    {
      "cell_type": "markdown",
      "metadata": {
        "id": "DrD822629QnN"
      },
      "source": [
        "## Treinando um modelo de árvore de decisão\n",
        "\n",
        "Vamos começar treinando uma única árvore de decisão primeiro!\n",
        "\n",
        "** Importar DecisionTreeClassifier**"
      ]
    },
    {
      "cell_type": "code",
      "execution_count": null,
      "metadata": {
        "collapsed": true,
        "id": "jDhzLmuj9QnN"
      },
      "outputs": [],
      "source": []
    },
    {
      "cell_type": "markdown",
      "metadata": {
        "id": "qOxbc6T29QnN"
      },
      "source": [
        "**Crie uma instância de DecisionTreeClassifier() chamada dtree e ajuste-a aos dados de treinamento.**"
      ]
    },
    {
      "cell_type": "code",
      "execution_count": null,
      "metadata": {
        "collapsed": true,
        "id": "CBw1Tipw9QnO"
      },
      "outputs": [],
      "source": []
    },
    {
      "cell_type": "markdown",
      "metadata": {
        "id": "gRL3megA9QnO"
      },
      "source": [
        "## Previsões e Avaliação da Árvore de Decisão\n",
        "\n",
        "**Crie previsões a partir do conjunto de testes e crie um relatório de classificação e uma matriz de confusão.**\n"
      ]
    },
    {
      "cell_type": "code",
      "execution_count": null,
      "metadata": {
        "collapsed": true,
        "id": "sqp8MzeT9QnO"
      },
      "outputs": [],
      "source": []
    },
    {
      "cell_type": "markdown",
      "metadata": {
        "id": "WrAZWuBg9QnR"
      },
      "source": [
        "## Treinando o modelo Random Forest\n",
        "\n",
        "Agora é hora de treinar nosso modelo!\n",
        "\n",
        "**Crie uma instância da classe RandomForestClassifier e ajuste-a aos nossos dados de treinamento da etapa anterior.**"
      ]
    },
    {
      "cell_type": "code",
      "execution_count": null,
      "metadata": {
        "collapsed": true,
        "id": "_xHHm1iG9QnS"
      },
      "outputs": [],
      "source": []
    },
    {
      "cell_type": "markdown",
      "metadata": {
        "id": "TzJUWDBr9QnS"
      },
      "source": [
        "## Previsões e Avaliação\n",
        "\n",
        "Vamos prever os valores de y_test e avaliar nosso modelo.\n",
        "\n",
        "** Preveja a classe de not.fully.paid para os dados do X_test.**"
      ]
    },
    {
      "cell_type": "code",
      "execution_count": null,
      "metadata": {
        "id": "RgeWYimN9QnT"
      },
      "outputs": [],
      "source": []
    },
    {
      "cell_type": "markdown",
      "metadata": {
        "id": "KnDndexh9QnT"
      },
      "source": [
        "**Agora crie um relatório de classificação a partir dos resultados. Você recebe algo estranho ou algum tipo de aviso?**"
      ]
    },
    {
      "cell_type": "code",
      "execution_count": null,
      "metadata": {
        "collapsed": true,
        "id": "2MUdmdHZ9QnT"
      },
      "outputs": [],
      "source": []
    },
    {
      "cell_type": "markdown",
      "metadata": {
        "id": "CpP117Sa9QnT"
      },
      "source": [
        "**Mostre a Matriz de Confusão para as previsões.**"
      ]
    },
    {
      "cell_type": "code",
      "execution_count": null,
      "metadata": {
        "id": "sLoZ5UK-9QnT"
      },
      "outputs": [],
      "source": []
    },
    {
      "cell_type": "markdown",
      "metadata": {
        "collapsed": true,
        "id": "b_DnzabA9QnT"
      },
      "source": [
        "**O que teve melhor desempenho a floresta aleatória ou a árvore de decisão?**"
      ]
    },
    {
      "cell_type": "code",
      "execution_count": null,
      "metadata": {
        "collapsed": true,
        "id": "WEeZ5Q0U9QnU"
      },
      "outputs": [],
      "source": [
        "# Depende de qual métrica você está tentando otimizar.\n",
        "# Observe o recall de cada classe para os modelos.\n",
        "# Nenhum dos dois foi muito bem, é necessário mais engenharia de recursos."
      ]
    }
  ],
  "metadata": {
    "kernelspec": {
      "display_name": "Python 3",
      "language": "python",
      "name": "python3"
    },
    "language_info": {
      "codemirror_mode": {
        "name": "ipython",
        "version": 3
      },
      "file_extension": ".py",
      "mimetype": "text/x-python",
      "name": "python",
      "nbconvert_exporter": "python",
      "pygments_lexer": "ipython3",
      "version": "3.5.1"
    },
    "colab": {
      "provenance": [],
      "collapsed_sections": []
    }
  },
  "nbformat": 4,
  "nbformat_minor": 0
}